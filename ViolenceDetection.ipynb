{
 "cells": [
  {
   "cell_type": "code",
   "execution_count": null,
   "metadata": {},
   "outputs": [],
   "source": [
    "# Cell 1: Import libraries and set up directories\n",
    "import os\n",
    "import cv2\n",
    "import shutil\n",
    "import pandas as pd\n",
    "from sklearn.model_selection import train_test_split"
   ]
  },
  {
   "cell_type": "code",
   "execution_count": null,
   "metadata": {},
   "outputs": [],
   "source": [
    "# # Cell 2: Extract frames from videos\n",
    "# def extract_frames(video_path, output_folder, label):\n",
    "#     if not os.path.exists(output_folder):\n",
    "#         os.makedirs(output_folder)\n",
    "    \n",
    "#     cap = cv2.VideoCapture(video_path)\n",
    "#     frame_count = 0\n",
    "    \n",
    "#     while cap.isOpened():\n",
    "#         ret, frame = cap.read()\n",
    "#         if not ret:\n",
    "#             break\n",
    "#         frame_name = os.path.join(output_folder, f\"{label}_{frame_count}.jpg\")\n",
    "#         cv2.imwrite(frame_name, frame)\n",
    "#         frame_count += 1\n",
    "    \n",
    "#     cap.release()\n",
    "#     cv2.destroyAllWindows()\n",
    "\n",
    "# video_folders = {\n",
    "#     \"violence\": \"Dataset/Violence\",\n",
    "#     \"non_violence\": \"Dataset/NonViolence\"\n",
    "# }\n",
    "\n",
    "# output_folder = \"extract\"\n",
    "\n",
    "# for label, folder in video_folders.items():\n",
    "#     for video_file in os.listdir(folder):\n",
    "#         video_path = os.path.join(folder, video_file)\n",
    "#         extract_frames(video_path, os.path.join(output_folder, label), label)\n"
   ]
  },
  {
   "cell_type": "code",
   "execution_count": null,
   "metadata": {},
   "outputs": [],
   "source": [
    "# Cell 3: Extract frames from videos\n",
    "def prepare_yolo_data(frame_folder, labels):\n",
    "    image_files = []\n",
    "    for label in labels:\n",
    "        label_folder = os.path.join(frame_folder, label)\n",
    "        for file in os.listdir(label_folder):\n",
    "            if file.endswith(\".jpg\"):\n",
    "                image_files.append((os.path.join(label_folder, file), labels.index(label)))\n",
    "\n",
    "    df = pd.DataFrame(image_files, columns=[\"image_path\", \"label\"])\n",
    "    train_df, val_df = train_test_split(df, test_size=0.2, stratify=df[\"label\"])\n",
    "\n",
    "    def save_labels(df, split):\n",
    "        os.makedirs(f\"data/{split}/images\", exist_ok=True)\n",
    "        os.makedirs(f\"data/{split}/labels\", exist_ok=True)\n",
    "\n",
    "        for _, row in df.iterrows():\n",
    "            image_path, label = row[\"image_path\"], row[\"label\"]\n",
    "            base_name = os.path.basename(image_path)\n",
    "            new_image_path = f\"data/{split}/images/{base_name}\"\n",
    "            label_path = new_image_path.replace(\"images\", \"labels\").replace(\".jpg\", \".txt\")\n",
    "\n",
    "            if os.path.exists(new_image_path):\n",
    "                print(f\"File {new_image_path} already exists. Skipping.\")\n",
    "                continue\n",
    "            try:\n",
    "                shutil.move(image_path, new_image_path)\n",
    "            except FileExistsError:\n",
    "                print(f\"File {new_image_path} already exists. Skipping.\")\n",
    "                continue\n",
    "            with open(label_path, \"w\") as f:\n",
    "                f.write(f\"{label} 0.5 0.5 1 1\\n\")\n",
    "\n",
    "    save_labels(train_df, \"train\")\n",
    "    save_labels(val_df, \"val\")\n",
    "\n",
    "prepare_yolo_data(\"extract\", [\"non_violence\", \"violence\"])"
   ]
  },
  {
   "cell_type": "code",
   "execution_count": null,
   "metadata": {},
   "outputs": [],
   "source": [
    "# Cell 4: Save data configuration\n",
    "data_config = {\n",
    "    'path': 'data',  \n",
    "    'train': 'train/images', \n",
    "    'val': 'val/images',  \n",
    "    'names': ['non_violence', 'violence']  \n",
    "}\n",
    "\n",
    "import yaml\n",
    "\n",
    "with open('data_config.yaml', 'w') as f:\n",
    "    yaml.dump(data_config, f)"
   ]
  },
  {
   "cell_type": "code",
   "execution_count": null,
   "metadata": {},
   "outputs": [],
   "source": [
    "# Cell 5: Train YOLOv8 model\n",
    "from ultralytics import YOLO\n",
    "model = YOLO('Models/yolov8n.pt') \n",
    "model.train(data='data_config.yaml', epochs=25, imgsz=640)\n",
    "model.save('Models/Violence.pt')"
   ]
  }
 ],
 "metadata": {
  "kernelspec": {
   "display_name": "Python 3",
   "language": "python",
   "name": "python3"
  },
  "language_info": {
   "codemirror_mode": {
    "name": "ipython",
    "version": 3
   },
   "file_extension": ".py",
   "mimetype": "text/x-python",
   "name": "python",
   "nbconvert_exporter": "python",
   "pygments_lexer": "ipython3",
   "version": "3.12.1"
  }
 },
 "nbformat": 4,
 "nbformat_minor": 2
}
